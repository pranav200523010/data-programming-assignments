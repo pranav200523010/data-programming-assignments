{
 "cells": [
  {
   "cell_type": "markdown",
   "id": "b8762262",
   "metadata": {},
   "source": [
    "## Question 1 \n",
    "\n",
    "What value is displayed when the last expression (a) is evaluated? Explain your answer by indicating what happens in every executed statement"
   ]
  },
  {
   "cell_type": "markdown",
   "id": "5003e108",
   "metadata": {},
   "source": [
    "#### Answer\n",
    "\n",
    "a=0 # creates a variable a and gives it a value 0\n",
    "\n",
    "def b():  # defines a function named b\n",
    "\n",
    "    global a  # takes value of a = 0 as a global variable in every place where a local a isn't defined\n",
    "    \n",
    "    a=c(a) # calls out function c and gives it a value a = 0\n",
    "    \n",
    "def c (a): # defines a function c and gives the values of a\n",
    "\n",
    "    return a + 2  # returns the value of a + 2, i.e, 0 + 2 = 2 to assign the value 2 to a; a becomes 2.\n",
    " \n",
    "b()\n",
    "b()\n",
    "b()\n",
    "a"
   ]
  },
  {
   "cell_type": "markdown",
   "id": "43353fe5",
   "metadata": {},
   "source": [
    "Here, function b will be called 3 times and it will add a = 2, 3 times and \n",
    "output will return the final value = 6"
   ]
  },
  {
   "cell_type": "markdown",
   "id": "74af7074",
   "metadata": {},
   "source": [
    "## Question 2\n",
    "\n",
    "As shown above, if the file cannot be found by the interpreter or if it cannot be read as a text file, an exception will be raised. Modify function file Length ( ) so that a friendly message is printed instead"
   ]
  },
  {
   "cell_type": "code",
   "execution_count": 98,
   "id": "d70102dd",
   "metadata": {},
   "outputs": [
    {
     "name": "stdout",
     "output_type": "stream",
     "text": [
      "717\n",
      "File idterm.py not found\n"
     ]
    }
   ],
   "source": [
    "def file_length(file_name):\n",
    "    \n",
    "    try:\n",
    "        \n",
    "        file = open(file_name)\n",
    "        contents = file.read()\n",
    "        file.close()\n",
    "        print(len(contents))\n",
    "        \n",
    "    except:\n",
    "        print (\"File\",file_name,\"not found\")\n",
    "    \n",
    "file_length('midterm.ipynb')\n",
    "    \n",
    "file_length('idterm.py')\n"
   ]
  },
  {
   "cell_type": "markdown",
   "id": "8b943428",
   "metadata": {},
   "source": [
    "## Question 3\n",
    "\n",
    "Write a class named Marsupial that can be used as shown below\n",
    "\n",
    "Now write a class named Kangaroo as a subclass of Marsupial that inherits all the attributes of Marsupial and also:\n",
    "a.\textends the Marsupial init constructor to take, as input, the coordinates x and y of the Kangaroo object,\n",
    "b.\tsupports method j ump that takes number values dx and dy as input and moves the kangaroo by dx units along the x-axis and by dy units along the yaxis, and\n",
    "c.\toverloads the\tstr operator so it behaves as shown below."
   ]
  },
  {
   "cell_type": "code",
   "execution_count": 33,
   "id": "97e91416",
   "metadata": {},
   "outputs": [],
   "source": [
    "class Marsupial:\n",
    "    \n",
    "    def __init__(self):\n",
    "        \n",
    "        self.toys=[]\n",
    "        \n",
    "    def put_in_pouch(self,toy):\n",
    "        \n",
    "        self.toys.append(toy)\n",
    "        \n",
    "    def pouch_contents(self):\n",
    "        \n",
    "        print(self.toys)\n",
    "        "
   ]
  },
  {
   "cell_type": "code",
   "execution_count": 34,
   "id": "fc5e62c7",
   "metadata": {},
   "outputs": [
    {
     "name": "stdout",
     "output_type": "stream",
     "text": [
      "['doll', 'firetruck', 'kitten']\n"
     ]
    }
   ],
   "source": [
    "m=Marsupial()\n",
    "\n",
    "m.put_in_pouch('doll')\n",
    "m.put_in_pouch('firetruck')\n",
    "m.put_in_pouch('kitten')\n",
    "\n",
    "m.pouch_contents()"
   ]
  },
  {
   "cell_type": "code",
   "execution_count": 45,
   "id": "a021b5c2",
   "metadata": {},
   "outputs": [],
   "source": [
    "class Kangaroo(Marsupial):\n",
    "    \n",
    "    def __init__(self,xcord,ycord):\n",
    "            \n",
    "        Marsupial.__init__(self)\n",
    "            \n",
    "        self.x = xcord\n",
    "        self.y = ycord\n",
    "            \n",
    "    def jump(self,dx,dy):\n",
    "        \n",
    "        self.x += dx\n",
    "        self.y += dy\n",
    "        \n",
    "    def __repr__(self):\n",
    "        \n",
    "        return 'I am a Kangaroo located at({}, {})'.format(self.x, self.y)\n",
    "    \n",
    "    "
   ]
  },
  {
   "cell_type": "code",
   "execution_count": 47,
   "id": "1ead7944",
   "metadata": {},
   "outputs": [
    {
     "name": "stdout",
     "output_type": "stream",
     "text": [
      "I am a Kangaroo located at(3, 0)\n"
     ]
    }
   ],
   "source": [
    "k=Kangaroo(0,0)\n",
    "\n",
    "k.put_in_pouch('doll')\n",
    "k.put_in_pouch('firetruck')\n",
    "k.put_in_pouch('kitten')\n",
    "\n",
    "k.jump(1,0)\n",
    "k.jump(1,0)\n",
    "k.jump(1,0)\n",
    "\n",
    "print(k)\n"
   ]
  },
  {
   "cell_type": "markdown",
   "id": "2649ff16",
   "metadata": {},
   "source": [
    "## Question 4\n",
    "\n",
    "Write function collatz ( ) that takes a positive integer x as input and prints the Collatz sequence starting at x. A Collatz sequence is obtained by repeatedly applying this rule to the previous number x in the sequence:\n",
    "if x is even x\n",
    "if x is odd\n",
    "Your function should stop when the sequence gets to number l. Your implementation must be recursive, without any loops."
   ]
  },
  {
   "cell_type": "code",
   "execution_count": 73,
   "id": "f3c4de69",
   "metadata": {},
   "outputs": [],
   "source": [
    "\n",
    "def collatz(x):\n",
    "    \n",
    "    if x==1:\n",
    "        return 1\n",
    "    \n",
    "    if x%2==0:\n",
    "        print(int(x/2))\n",
    "        return collatz(x/2)\n",
    "    if x%2==1:\n",
    "        print(int(3*x+1))\n",
    "        return collatz(3*x+1)\n",
    "    \n",
    "    \n",
    "    "
   ]
  },
  {
   "cell_type": "code",
   "execution_count": 76,
   "id": "ab78d161",
   "metadata": {},
   "outputs": [
    {
     "data": {
      "text/plain": [
       "1"
      ]
     },
     "execution_count": 76,
     "metadata": {},
     "output_type": "execute_result"
    }
   ],
   "source": [
    "collatz(1)"
   ]
  },
  {
   "cell_type": "markdown",
   "id": "6f85b0fc",
   "metadata": {},
   "source": [
    "## Question 5\n",
    "\n",
    "Write a recursive method binary ( ) that takes a non-negative integer n and prints the binary representation of integer n"
   ]
  },
  {
   "cell_type": "code",
   "execution_count": 86,
   "id": "5ff70737",
   "metadata": {},
   "outputs": [
    {
     "name": "stdout",
     "output_type": "stream",
     "text": [
      "110100"
     ]
    }
   ],
   "source": [
    "\n",
    "def binary(x):\n",
    "    \n",
    "    if x > 1:\n",
    "        \n",
    "        binary(x // 2)\n",
    "    \n",
    "    print(x % 2, end = '')\n",
    "    \n",
    "\n",
    "binary(52)"
   ]
  },
  {
   "cell_type": "markdown",
   "id": "5c7f74d4",
   "metadata": {},
   "source": [
    "## Question 6\n",
    "\n",
    "Implement a class named HeadingParser that can be used to parse an HTML document, and retrieve and print all the headings in the document. You should implement your class as a subclass of HTML Parser, defined in Standard Library module html . parser. When fed a string containing HTML code, your class should print the headings, one per line and in the order in which they appear in the document. Each heading should be indented as follows: an h I heading should have\n",
    "indentation 0, and h2 heading should have indentation l, etc. Test your implementation using w3c.html."
   ]
  },
  {
   "cell_type": "code",
   "execution_count": 12,
   "id": "abcdf199",
   "metadata": {},
   "outputs": [
    {
     "name": "stdout",
     "output_type": "stream",
     "text": [
      "W3C Mission\n",
      "\tPrinciples\n"
     ]
    }
   ],
   "source": [
    "from html.parser import HTMLParser\n",
    "\n",
    "class HeadingParser(HTMLParser):\n",
    "    \n",
    "    x = \"\"\n",
    "    \n",
    "    def handle_starttag (self, tag, attrs):\n",
    "        \n",
    "        if tag == \"h1\":\n",
    "            \n",
    "            self.x = \"h1\"\n",
    "            \n",
    "        if tag == \"h2\":\n",
    "            \n",
    "            self.x = \"h2\"\n",
    "            \n",
    "    def handle_data (self, data):\n",
    "        \n",
    "        if self.x == \"h1\":\n",
    "            \n",
    "            print(data)\n",
    "            \n",
    "        if self.x == \"h2\":\n",
    "            \n",
    "            print('\\t' + data)\n",
    "            \n",
    "    def handle_endtag (self, tag):\n",
    "        \n",
    "        if tag == \"h1\" or tag == \"h2\":\n",
    "            \n",
    "            self.x = \"\"\n",
    "            \n",
    "infile = open(\"w3c.html\")\n",
    "\n",
    "content = infile.read()\n",
    "\n",
    "infile.close()\n",
    "\n",
    "headpar = HeadingParser()\n",
    "\n",
    "headpar.feed(content)"
   ]
  },
  {
   "cell_type": "markdown",
   "id": "9ad63c6d",
   "metadata": {},
   "source": [
    "## Question 7\n",
    "\n",
    "Implement recursive function webdir( ) that takes as input: a URL (as a string) and non-negative integers depth and indent. Your function should visit every web page reachable from the starting URL web page in depth clicks or less, and print each web page's URL. As shown below, indentation, specified by indent, should be used to indicate the depth of a URL."
   ]
  },
  {
   "cell_type": "code",
   "execution_count": null,
   "id": "f242cd73",
   "metadata": {},
   "outputs": [],
   "source": []
  },
  {
   "attachments": {},
   "cell_type": "markdown",
   "id": "27a5868f",
   "metadata": {},
   "source": [
    "## Question 8\n",
    "\n",
    "Write SQL queries on the below database table that return:"
   ]
  },
  {
   "cell_type": "code",
   "execution_count": 30,
   "id": "64f25896",
   "metadata": {},
   "outputs": [],
   "source": [
    "\n",
    "import sqlite3\n",
    "\n",
    "databas = sqlite3.connect(\"cities.db\")\n",
    "\n",
    "cur = databas.cursor()\n",
    "\n",
    "cur.execute(\"Create Table Matter (City text, Country text, Season text, Temprature float, Rainfall float)\")\n",
    "\n",
    "cur.execute(\"Insert into Matter (City, Country, Season, Temprature, Rainfall) values ('Mumbai','India','Winter',24.5,5.9),('Mumbai','India','Spring',28.4,16.2),('Mumbai','India','Summer',27.9,1549.4),('Mumbai','India','Fall',27.6,346),('London','United Kingdom','Winter',4.2,207.7),('London','United Kingdom','Spring',8.3,169.6), ('London','United Kingdom','Summer',15.7,157), ('London','United Kingdom','Fall',10.4,218.5), ('Cairo','Egypt','Winter',13.6,16.5), ('Cairo','Egypt','Spring',20.7,6.5),('Cairo','Egypt','Summer',27.7,0.1),('Cairo','Egypt','Fall',22.4,4.5)\")\n",
    "\n",
    "databas.commit()\n",
    "\n"
   ]
  },
  {
   "attachments": {},
   "cell_type": "markdown",
   "id": "81660d72",
   "metadata": {},
   "source": [
    "#### a) All the temperature data."
   ]
  },
  {
   "cell_type": "code",
   "execution_count": 31,
   "id": "c6f6f171",
   "metadata": {},
   "outputs": [
    {
     "data": {
      "text/plain": [
       "[(24.5,),\n",
       " (28.4,),\n",
       " (27.9,),\n",
       " (27.6,),\n",
       " (4.2,),\n",
       " (8.3,),\n",
       " (15.7,),\n",
       " (10.4,),\n",
       " (13.6,),\n",
       " (20.7,),\n",
       " (27.7,),\n",
       " (22.4,)]"
      ]
     },
     "execution_count": 31,
     "metadata": {},
     "output_type": "execute_result"
    }
   ],
   "source": [
    "cur.execute(\"select Temprature from Matter\")\n",
    "cur.fetchall()\n"
   ]
  },
  {
   "attachments": {},
   "cell_type": "markdown",
   "id": "3fd3b029",
   "metadata": {},
   "source": [
    "####  b) All the cities, but without repetition."
   ]
  },
  {
   "cell_type": "code",
   "execution_count": 33,
   "id": "62b72e89",
   "metadata": {},
   "outputs": [
    {
     "data": {
      "text/plain": [
       "[('Mumbai',), ('London',), ('Cairo',)]"
      ]
     },
     "execution_count": 33,
     "metadata": {},
     "output_type": "execute_result"
    }
   ],
   "source": [
    "cur.execute(\"select distinct City from Matter\")\n",
    "cur.fetchall()"
   ]
  },
  {
   "attachments": {},
   "cell_type": "markdown",
   "id": "0bace8f4",
   "metadata": {},
   "source": [
    "#### c)\tAll the records for India."
   ]
  },
  {
   "cell_type": "code",
   "execution_count": 35,
   "id": "7449a406",
   "metadata": {},
   "outputs": [
    {
     "data": {
      "text/plain": [
       "[('Mumbai', 'India', 'Winter', 24.5, 5.9),\n",
       " ('Mumbai', 'India', 'Spring', 28.4, 16.2),\n",
       " ('Mumbai', 'India', 'Summer', 27.9, 1549.4),\n",
       " ('Mumbai', 'India', 'Fall', 27.6, 346.0)]"
      ]
     },
     "execution_count": 35,
     "metadata": {},
     "output_type": "execute_result"
    }
   ],
   "source": [
    "cur.execute(\"select * from Matter where Country ='India'\")\n",
    "cur.fetchall()"
   ]
  },
  {
   "attachments": {},
   "cell_type": "markdown",
   "id": "f99f4cc2",
   "metadata": {},
   "source": [
    "#### d)\tAll the Fall records."
   ]
  },
  {
   "cell_type": "code",
   "execution_count": 36,
   "id": "cc3d08c6",
   "metadata": {},
   "outputs": [
    {
     "data": {
      "text/plain": [
       "[('Mumbai', 'India', 'Fall', 27.6, 346.0),\n",
       " ('London', 'United Kingdom', 'Fall', 10.4, 218.5),\n",
       " ('Cairo', 'Egypt', 'Fall', 22.4, 4.5)]"
      ]
     },
     "execution_count": 36,
     "metadata": {},
     "output_type": "execute_result"
    }
   ],
   "source": [
    "cur.execute(\"select * from Matter where Season='Fall'\")\n",
    "cur.fetchall()"
   ]
  },
  {
   "attachments": {},
   "cell_type": "markdown",
   "id": "aa393b13",
   "metadata": {},
   "source": [
    "#### e)\tThe city, country, and season for which the average rainfall is between 200 and 400 millimeters."
   ]
  },
  {
   "cell_type": "code",
   "execution_count": 38,
   "id": "5af7e325",
   "metadata": {},
   "outputs": [
    {
     "data": {
      "text/plain": [
       "[('Mumbai', 'India', 'Fall'),\n",
       " ('London', 'United Kingdom', 'Winter'),\n",
       " ('London', 'United Kingdom', 'Fall')]"
      ]
     },
     "execution_count": 38,
     "metadata": {},
     "output_type": "execute_result"
    }
   ],
   "source": [
    "cur.execute(\"select City, Country, Season from Matter where Rainfall between 200 and 400\")\n",
    "cur.fetchall()"
   ]
  },
  {
   "attachments": {},
   "cell_type": "markdown",
   "id": "d6766a55",
   "metadata": {},
   "source": [
    "#### f)\tThe city and country for which the average Fall temperature is above 20 degrees, in increasing temperature order."
   ]
  },
  {
   "cell_type": "code",
   "execution_count": 39,
   "id": "b624fc75",
   "metadata": {},
   "outputs": [
    {
     "data": {
      "text/plain": [
       "[('Cairo', 'Egypt'), ('Mumbai', 'India')]"
      ]
     },
     "execution_count": 39,
     "metadata": {},
     "output_type": "execute_result"
    }
   ],
   "source": [
    "cur.execute(\"select City, Country from Matter where Season = 'Fall' and Temprature > 20 order by Temprature\")\n",
    "cur.fetchall()"
   ]
  },
  {
   "attachments": {},
   "cell_type": "markdown",
   "id": "05856b95",
   "metadata": {},
   "source": [
    "####  g)\tThe total annual rainfall for Cairo."
   ]
  },
  {
   "cell_type": "code",
   "execution_count": 40,
   "id": "7c92afc5",
   "metadata": {},
   "outputs": [
    {
     "data": {
      "text/plain": [
       "[(27.6,)]"
      ]
     },
     "execution_count": 40,
     "metadata": {},
     "output_type": "execute_result"
    }
   ],
   "source": [
    "cur.execute(\"select sum(Rainfall) from Matter where City = 'Cairo'\")\n",
    "cur.fetchall()"
   ]
  },
  {
   "attachments": {},
   "cell_type": "markdown",
   "id": "15c37b7d",
   "metadata": {},
   "source": [
    "#### h)\tThe total rainfall for each season."
   ]
  },
  {
   "cell_type": "code",
   "execution_count": 45,
   "id": "6bb384b8",
   "metadata": {},
   "outputs": [
    {
     "data": {
      "text/plain": [
       "[('Fall', 569.0),\n",
       " ('Spring', 192.29999999999998),\n",
       " ('Summer', 1706.5),\n",
       " ('Winter', 230.1)]"
      ]
     },
     "execution_count": 45,
     "metadata": {},
     "output_type": "execute_result"
    }
   ],
   "source": [
    "cur.execute(\"select Season, sum(Rainfall) from Matter group by Season\")\n",
    "cur.fetchall()"
   ]
  },
  {
   "attachments": {},
   "cell_type": "markdown",
   "id": "b7ce9020",
   "metadata": {},
   "source": [
    "## Question 9\n",
    "\n",
    "Suppose list words is defined as follows:\n",
    "words - [ 'The ', ' quick', ' brown ', 'fox', 'jumps', 'over ',\n",
    "'the', ' lazy' , ' dog ' ]\n",
    "Write list comprehension expressions that use list words and generate the following lists:"
   ]
  },
  {
   "cell_type": "markdown",
   "id": "3a8e5216",
   "metadata": {},
   "source": [
    "#### 1. Uppercase of the words"
   ]
  },
  {
   "cell_type": "code",
   "execution_count": 47,
   "id": "98f71b0a",
   "metadata": {},
   "outputs": [
    {
     "data": {
      "text/plain": [
       "['THE', 'QUICK', 'BROWN', 'FOX', 'JUMPS', 'OVER', 'THE', 'LAZY', 'DOG']"
      ]
     },
     "execution_count": 47,
     "metadata": {},
     "output_type": "execute_result"
    }
   ],
   "source": [
    "words = ['the','quick','brown','fox','jumps','over','the','lazy','dog']\n",
    "\n",
    "uppercase = [word.upper() for word in words]\n",
    "uppercase"
   ]
  },
  {
   "cell_type": "markdown",
   "id": "2ed8e670",
   "metadata": {},
   "source": [
    "#### Lowercase of the words"
   ]
  },
  {
   "cell_type": "code",
   "execution_count": 48,
   "id": "706dfc77",
   "metadata": {},
   "outputs": [
    {
     "data": {
      "text/plain": [
       "['the', 'quick', 'brown', 'fox', 'jumps', 'over', 'the', 'lazy', 'dog']"
      ]
     },
     "execution_count": 48,
     "metadata": {},
     "output_type": "execute_result"
    }
   ],
   "source": [
    "lowercase = [word.lower() for word in words]\n",
    "lowercase"
   ]
  },
  {
   "attachments": {},
   "cell_type": "markdown",
   "id": "ff3090c3",
   "metadata": {},
   "source": [
    "#### The list of lengths of words in list words"
   ]
  },
  {
   "cell_type": "code",
   "execution_count": 49,
   "id": "c728f7d1",
   "metadata": {},
   "outputs": [
    {
     "data": {
      "text/plain": [
       "[3, 5, 5, 3, 5, 4, 3, 4, 3]"
      ]
     },
     "execution_count": 49,
     "metadata": {},
     "output_type": "execute_result"
    }
   ],
   "source": [
    "wordlength = [len(word) for word in words]\n",
    "wordlength"
   ]
  },
  {
   "attachments": {},
   "cell_type": "markdown",
   "id": "1c59570e",
   "metadata": {},
   "source": [
    "#### The list containing a list for every word of list words, where each list contains the word in uppercase and lowercase and the length of the word"
   ]
  },
  {
   "cell_type": "code",
   "execution_count": 50,
   "id": "fa000093",
   "metadata": {},
   "outputs": [
    {
     "data": {
      "text/plain": [
       "[['THE', 'the', 3],\n",
       " ['QUICK', 'quick', 5],\n",
       " ['BROWN', 'brown', 5],\n",
       " ['FOX', 'fox', 3],\n",
       " ['JUMPS', 'jumps', 5],\n",
       " ['OVER', 'over', 4],\n",
       " ['THE', 'the', 3],\n",
       " ['LAZY', 'lazy', 4],\n",
       " ['DOG', 'dog', 3]]"
      ]
     },
     "execution_count": 50,
     "metadata": {},
     "output_type": "execute_result"
    }
   ],
   "source": [
    "mixedlist = [[word.upper(), word.lower(), len(word)] for word in words]\n",
    "mixedlist"
   ]
  },
  {
   "attachments": {},
   "cell_type": "markdown",
   "id": "d20fb73f",
   "metadata": {},
   "source": [
    "#### The list of words in list words containing 4 or more characters."
   ]
  },
  {
   "cell_type": "code",
   "execution_count": 54,
   "id": "5c2b91ec",
   "metadata": {},
   "outputs": [
    {
     "data": {
      "text/plain": [
       "['quick', 'brown', 'jumps', 'over', 'lazy']"
      ]
     },
     "execution_count": 54,
     "metadata": {},
     "output_type": "execute_result"
    }
   ],
   "source": [
    "length3list = [word for word in words if len(word) >= 4]\n",
    "length3list"
   ]
  }
 ],
 "metadata": {
  "kernelspec": {
   "display_name": "Python 3 (ipykernel)",
   "language": "python",
   "name": "python3"
  },
  "language_info": {
   "codemirror_mode": {
    "name": "ipython",
    "version": 3
   },
   "file_extension": ".py",
   "mimetype": "text/x-python",
   "name": "python",
   "nbconvert_exporter": "python",
   "pygments_lexer": "ipython3",
   "version": "3.9.12"
  }
 },
 "nbformat": 4,
 "nbformat_minor": 5
}
